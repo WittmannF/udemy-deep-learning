{
  "nbformat": 4,
  "nbformat_minor": 0,
  "metadata": {
    "colab": {
      "name": "TFvsKeras_Regression.ipynb",
      "provenance": [],
      "include_colab_link": true
    },
    "kernelspec": {
      "name": "python3",
      "display_name": "Python 3"
    },
    "accelerator": "GPU"
  },
  "cells": [
    {
      "cell_type": "markdown",
      "metadata": {
        "id": "view-in-github",
        "colab_type": "text"
      },
      "source": [
        "<a href=\"https://colab.research.google.com/github/WittmannF/udemy-deep-learning/blob/master/1-intro/TFvsKeras_Regression.ipynb\" target=\"_parent\"><img src=\"https://colab.research.google.com/assets/colab-badge.svg\" alt=\"Open In Colab\"/></a>"
      ]
    },
    {
      "cell_type": "markdown",
      "metadata": {
        "id": "j7a4139FPMIc"
      },
      "source": [
        "# Comparison of pure TensorFlow and Keras"
      ]
    },
    {
      "cell_type": "markdown",
      "metadata": {
        "id": "PWEfDAEePLJW"
      },
      "source": [
        "In this notebook we are going to present the same problem being solved in two different ways. In both, TensorFlow is going to be used as backend. The main difference is that a high levels API is going to be evaluated and compared wtih TensorFlow implementation. The notebook is divided in three parts:\n",
        "\n",
        "- Definind the Input Data\n",
        "- Implementation on TensorFlow\n",
        "- Implementation on Keras\n",
        "\n",
        "## Input Data"
      ]
    },
    {
      "cell_type": "code",
      "metadata": {
        "id": "_TFDE7Sh7FBQ",
        "outputId": "13ffdd27-7ac8-4aa1-e0ca-228b001ba3a1",
        "colab": {
          "base_uri": "https://localhost:8080/",
          "height": 51
        }
      },
      "source": [
        "import numpy as np\n",
        "\n",
        "X_train = np.random.random(10)\n",
        "print(X_train)"
      ],
      "execution_count": null,
      "outputs": [
        {
          "output_type": "stream",
          "text": [
            "[0.00646246 0.31296048 0.93787008 0.61559184 0.46033923 0.36066896\n",
            " 0.73145211 0.75476398 0.6191128  0.6906117 ]\n"
          ],
          "name": "stdout"
        }
      ]
    },
    {
      "cell_type": "code",
      "metadata": {
        "id": "KWetcFpi8l62"
      },
      "source": [
        "w = 5\n",
        "b = 1\n",
        "y_train = w*X_train + b\n"
      ],
      "execution_count": null,
      "outputs": []
    },
    {
      "cell_type": "code",
      "metadata": {
        "id": "R-njvCBj8y1d",
        "outputId": "c7c0c311-ab98-421e-8910-42e75fd48833",
        "colab": {
          "base_uri": "https://localhost:8080/",
          "height": 364
        }
      },
      "source": [
        "import matplotlib.pyplot as plt\n",
        "plt.scatter(X_train, y_train)"
      ],
      "execution_count": null,
      "outputs": [
        {
          "output_type": "execute_result",
          "data": {
            "text/plain": [
              "<matplotlib.collections.PathCollection at 0x7f92cc04f278>"
            ]
          },
          "metadata": {
            "tags": []
          },
          "execution_count": 28
        },
        {
          "output_type": "display_data",
          "data": {
            "image/png": "[encoded data removed]",
            "text/plain": [
              "<Figure size 576x396 with 1 Axes>"
            ]
          },
          "metadata": {
            "tags": []
          }
        }
      ]
    },
    {
      "cell_type": "code",
      "metadata": {
        "id": "uZG6-XUuJnIy"
      },
      "source": [
        "X_train = np.c_[X_train]\n",
        "y_train = np.c_[y_train]"
      ],
      "execution_count": null,
      "outputs": []
    },
    {
      "cell_type": "code",
      "metadata": {
        "id": "OfrFXwmOniND"
      },
      "source": [
        "from sklearn.preprocessing import StandardScaler\n",
        "\n",
        "sc = StandardScaler()\n",
        "X_train = sc.fit_transform(X_train)\n",
        "y_train = sc.fit_transform(y_train)"
      ],
      "execution_count": null,
      "outputs": []
    },
    {
      "cell_type": "markdown",
      "metadata": {
        "id": "tcrP6tNb7Dtf"
      },
      "source": [
        "## Implementation in TensorFlow"
      ]
    },
    {
      "cell_type": "code",
      "metadata": {
        "id": "97np6Veo-757"
      },
      "source": [
        "import tensorflow as tf\n",
        "\n",
        "# Parameters\n",
        "learning_rate = 0.1\n",
        "num_steps = 500\n",
        "batch_size = 128\n",
        "display_step = 100\n",
        "\n",
        "# Network Parameters\n",
        "#n_hidden_1 = 128 # 1st layer number of neurons\n",
        "#n_hidden_2 = 512 # 2nd layer number of neurons\n",
        "num_input = 1 # MNIST data input (img shape: 28*28)\n",
        "num_output = 1 # MNIST total classes (0-9 digits)\n",
        "\n",
        "# tf Graph input\n",
        "X = tf.placeholder(\"float\", [None, num_input])\n",
        "y = tf.placeholder(\"float\", [None, num_output])\n",
        "\n",
        "# Store layers weight & bias\n",
        "weights = {\n",
        "    'out': tf.Variable(tf.random_normal([num_input, num_output]))\n",
        "}\n",
        "biases = {\n",
        "    'out': tf.Variable(tf.random_normal([num_output]))\n",
        "}\n",
        "\n",
        "# Create model\n",
        "def neural_net(x):\n",
        "    # Output fully connected layer with a neuron for each class\n",
        "    out_layer = tf.matmul(x, weights['out']) + biases['out']\n",
        "    return out_layer"
      ],
      "execution_count": null,
      "outputs": []
    },
    {
      "cell_type": "code",
      "metadata": {
        "id": "HWO_NgLl_B8n"
      },
      "source": [
        "# Construct model\n",
        "model = neural_net(X)\n",
        "\n",
        "loss_op = tf.reduce_mean(tf.square(model-y))\n",
        "\n",
        "train_op = tf.train.GradientDescentOptimizer(learning_rate).minimize(loss_op)"
      ],
      "execution_count": null,
      "outputs": []
    },
    {
      "cell_type": "code",
      "metadata": {
        "id": "IV6SD8hcF-js"
      },
      "source": [
        "# Evaluate model (with test logits, for dropout to be disabled)\n",
        "#correct_pred = tf.equal(tf.argmax(logits, 1), tf.argmax(Y, 1))\n",
        "#accuracy = tf.reduce_mean(tf.cast(correct_pred, tf.float32))\n",
        "\n",
        "# Initialize the variables (i.e. assign their default value)\n",
        "init = tf.global_variables_initializer()"
      ],
      "execution_count": null,
      "outputs": []
    },
    {
      "cell_type": "code",
      "metadata": {
        "id": "dtG2uurAGSWY",
        "outputId": "ebeb660b-fdf3-42fc-dec9-03f7cd4cda8e",
        "colab": {
          "base_uri": "https://localhost:8080/",
          "height": 8534
        }
      },
      "source": [
        "# Start training\n",
        "with tf.Session() as sess:\n",
        "\n",
        "    # Run the initializer\n",
        "    sess.run(init)\n",
        "\n",
        "    for step in range(1, num_steps+1):\n",
        "        batch_x, batch_y = X_train, y_train#mnist.train.next_batch(batch_size)\n",
        "        # Run optimization op (backprop)\n",
        "        sess.run(train_op, feed_dict={X: batch_x, y: batch_y})\n",
        "        \n",
        "        #print(sess.run(model, feed_dict={X: X_train}))\n",
        "        print(sess.run(loss_op, feed_dict={X: batch_x, y: batch_y}))\n",
        "        \n",
        "    print(\"Optimization Finished!\")\n",
        "    \n",
        "    y_pred = sess.run(model, feed_dict={X: X_train})\n",
        "    w_pred = sess.run(weights)\n",
        "    sess.run(biases)"
      ],
      "execution_count": null,
      "outputs": [
        {
          "output_type": "stream",
          "text": [
            "6.5640426\n",
            "3.8791053\n",
            "2.397009\n",
            "1.5765889\n",
            "1.1201993\n",
            "0.86413157\n",
            "0.7183428\n",
            "0.6333068\n",
            "0.5817822\n",
            "0.5487839\n",
            "0.52606803\n",
            "0.50909865\n",
            "0.4953794\n",
            "0.48353523\n",
            "0.47280803\n",
            "0.46277943\n",
            "0.45321736\n",
            "0.4439926\n",
            "0.43503267\n",
            "0.42629576\n",
            "0.41775775\n",
            "0.40940338\n",
            "0.40122327\n",
            "0.39321035\n",
            "0.38535976\n",
            "0.3776669\n",
            "0.37012845\n",
            "0.36274073\n",
            "0.35550064\n",
            "0.34840512\n",
            "0.3414514\n",
            "0.3346365\n",
            "0.32795757\n",
            "0.3214119\n",
            "0.314997\n",
            "0.30871\n",
            "0.3025486\n",
            "0.29651004\n",
            "0.29059213\n",
            "0.28479236\n",
            "0.27910826\n",
            "0.27353764\n",
            "0.2680782\n",
            "0.26272765\n",
            "0.257484\n",
            "0.2523449\n",
            "0.24730845\n",
            "0.24237254\n",
            "0.23753509\n",
            "0.23279421\n",
            "0.22814801\n",
            "0.2235944\n",
            "0.21913178\n",
            "0.21475816\n",
            "0.21047187\n",
            "0.20627117\n",
            "0.20215428\n",
            "0.19811955\n",
            "0.19416535\n",
            "0.19029005\n",
            "0.18649213\n",
            "0.18277001\n",
            "0.17912215\n",
            "0.17554715\n",
            "0.17204341\n",
            "0.16860965\n",
            "0.16524446\n",
            "0.16194639\n",
            "0.15871415\n",
            "0.15554643\n",
            "0.1524419\n",
            "0.14939944\n",
            "0.14641763\n",
            "0.14349523\n",
            "0.14063129\n",
            "0.13782445\n",
            "0.13507369\n",
            "0.13237783\n",
            "0.12973572\n",
            "0.12714636\n",
            "0.12460868\n",
            "0.12212165\n",
            "0.11968426\n",
            "0.11729556\n",
            "0.11495452\n",
            "0.11266015\n",
            "0.11041161\n",
            "0.108207956\n",
            "0.10604827\n",
            "0.10393169\n",
            "0.10185733\n",
            "0.09982436\n",
            "0.09783202\n",
            "0.095879406\n",
            "0.093965776\n",
            "0.09209032\n",
            "0.09025236\n",
            "0.088451095\n",
            "0.08668571\n",
            "0.084955595\n",
            "0.08325999\n",
            "0.08159823\n",
            "0.07996964\n",
            "0.078373566\n",
            "0.076809295\n",
            "0.075276315\n",
            "0.07377386\n",
            "0.07230146\n",
            "0.07085841\n",
            "0.06944414\n",
            "0.068058155\n",
            "0.06669982\n",
            "0.06536854\n",
            "0.06406386\n",
            "0.06278521\n",
            "0.06153208\n",
            "0.060303994\n",
            "0.05910038\n",
            "0.057920832\n",
            "0.0567648\n",
            "0.055631854\n",
            "0.054521482\n",
            "0.05343331\n",
            "0.052366875\n",
            "0.051321663\n",
            "0.05029737\n",
            "0.049293477\n",
            "0.048309647\n",
            "0.047345445\n",
            "0.04640046\n",
            "0.04547439\n",
            "0.044566788\n",
            "0.043677293\n",
            "0.042805582\n",
            "0.041951247\n",
            "0.04111395\n",
            "0.04029337\n",
            "0.039489176\n",
            "0.038701\n",
            "0.037928574\n",
            "0.037171558\n",
            "0.03642965\n",
            "0.035702594\n",
            "0.03499002\n",
            "0.034291677\n",
            "0.033607267\n",
            "0.032936506\n",
            "0.03227912\n",
            "0.031634875\n",
            "0.031003509\n",
            "0.030384695\n",
            "0.029778231\n",
            "0.029183894\n",
            "0.028601428\n",
            "0.028030574\n",
            "0.027471114\n",
            "0.02692281\n",
            "0.02638546\n",
            "0.02585884\n",
            "0.025342738\n",
            "0.024836922\n",
            "0.024341214\n",
            "0.0238554\n",
            "0.02337927\n",
            "0.02291264\n",
            "0.022455325\n",
            "0.022007152\n",
            "0.021567909\n",
            "0.021137439\n",
            "0.020715581\n",
            "0.020302113\n",
            "0.019896913\n",
            "0.01949979\n",
            "0.019110609\n",
            "0.018729188\n",
            "0.018355396\n",
            "0.017989036\n",
            "0.017630013\n",
            "0.017278122\n",
            "0.016933288\n",
            "0.016595313\n",
            "0.016264087\n",
            "0.015939487\n",
            "0.0156213585\n",
            "0.01530959\n",
            "0.015004054\n",
            "0.0147045795\n",
            "0.014411087\n",
            "0.014123444\n",
            "0.013841545\n",
            "0.013565299\n",
            "0.01329454\n",
            "0.01302919\n",
            "0.012769138\n",
            "0.012514278\n",
            "0.012264503\n",
            "0.012019723\n",
            "0.011779827\n",
            "0.011544715\n",
            "0.01131429\n",
            "0.011088475\n",
            "0.0108671775\n",
            "0.010650267\n",
            "0.010437707\n",
            "0.01022937\n",
            "0.010025205\n",
            "0.009825104\n",
            "0.009629015\n",
            "0.009436822\n",
            "0.009248482\n",
            "0.009063899\n",
            "0.008882985\n",
            "0.008705709\n",
            "0.008531948\n",
            "0.008361664\n",
            "0.008194777\n",
            "0.00803121\n",
            "0.007870924\n",
            "0.0077138254\n",
            "0.0075598657\n",
            "0.0074089756\n",
            "0.007261106\n",
            "0.00711618\n",
            "0.006974148\n",
            "0.0068349554\n",
            "0.0066985292\n",
            "0.0065648453\n",
            "0.006433822\n",
            "0.006305414\n",
            "0.0061795735\n",
            "0.0060562333\n",
            "0.005935355\n",
            "0.005816889\n",
            "0.0057008034\n",
            "0.0055870144\n",
            "0.005475508\n",
            "0.0053662183\n",
            "0.0052591166\n",
            "0.005154156\n",
            "0.0050512794\n",
            "0.0049504586\n",
            "0.004851658\n",
            "0.00475482\n",
            "0.0046599107\n",
            "0.004566901\n",
            "0.004475757\n",
            "0.0043864306\n",
            "0.0042988765\n",
            "0.0042130756\n",
            "0.004128988\n",
            "0.004046576\n",
            "0.0039658104\n",
            "0.00388666\n",
            "0.0038090968\n",
            "0.0037330692\n",
            "0.0036585652\n",
            "0.0035855477\n",
            "0.0035139807\n",
            "0.0034438379\n",
            "0.0033751098\n",
            "0.0033077379\n",
            "0.0032417134\n",
            "0.0031770174\n",
            "0.0031136102\n",
            "0.0030514689\n",
            "0.0029905613\n",
            "0.002930885\n",
            "0.0028723874\n",
            "0.002815056\n",
            "0.0027588694\n",
            "0.0027038031\n",
            "0.0026498311\n",
            "0.0025969422\n",
            "0.0025451162\n",
            "0.002494317\n",
            "0.0024445334\n",
            "0.002395738\n",
            "0.0023479243\n",
            "0.0023010538\n",
            "0.0022551245\n",
            "0.0022101176\n",
            "0.002166005\n",
            "0.0021227775\n",
            "0.0020804058\n",
            "0.0020388835\n",
            "0.0019981952\n",
            "0.0019583155\n",
            "0.0019192327\n",
            "0.0018809245\n",
            "0.0018433852\n",
            "0.0018065919\n",
            "0.0017705299\n",
            "0.001735192\n",
            "0.0017005568\n",
            "0.0016666148\n",
            "0.0016333513\n",
            "0.0016007479\n",
            "0.0015687963\n",
            "0.0015374856\n",
            "0.0015068006\n",
            "0.0014767258\n",
            "0.0014472494\n",
            "0.0014183646\n",
            "0.0013900541\n",
            "0.0013623093\n",
            "0.0013351205\n",
            "0.0013084693\n",
            "0.0012823588\n",
            "0.0012567645\n",
            "0.001231679\n",
            "0.0012070973\n",
            "0.0011830075\n",
            "0.0011593907\n",
            "0.0011362538\n",
            "0.0011135752\n",
            "0.0010913512\n",
            "0.0010695694\n",
            "0.0010482182\n",
            "0.0010272948\n",
            "0.0010067902\n",
            "0.0009866959\n",
            "0.0009670068\n",
            "0.0009477025\n",
            "0.00092878856\n",
            "0.00091024564\n",
            "0.00089208194\n",
            "0.000874276\n",
            "0.00085682626\n",
            "0.00083972403\n",
            "0.00082296424\n",
            "0.00080653717\n",
            "0.00079043896\n",
            "0.0007746637\n",
            "0.00075920287\n",
            "0.00074405095\n",
            "0.0007292002\n",
            "0.0007146498\n",
            "0.00070038496\n",
            "0.00068640726\n",
            "0.0006727065\n",
            "0.0006592799\n",
            "0.0006461237\n",
            "0.00063322805\n",
            "0.00062059314\n",
            "0.0006082013\n",
            "0.0005960628\n",
            "0.00058416405\n",
            "0.0005725099\n",
            "0.0005610799\n",
            "0.0005498816\n",
            "0.00053890643\n",
            "0.0005281508\n",
            "0.0005176099\n",
            "0.0005072785\n",
            "0.00049715646\n",
            "0.00048723226\n",
            "0.000477508\n",
            "0.00046798\n",
            "0.00045863754\n",
            "0.0004494874\n",
            "0.00044051273\n",
            "0.00043172162\n",
            "0.000423106\n",
            "0.00041466035\n",
            "0.00040638266\n",
            "0.00039827154\n",
            "0.0003903242\n",
            "0.00038253254\n",
            "0.00037489668\n",
            "0.00036741426\n",
            "0.0003600787\n",
            "0.0003528926\n",
            "0.00034584847\n",
            "0.00033894574\n",
            "0.0003321817\n",
            "0.00032555248\n",
            "0.000319055\n",
            "0.00031268972\n",
            "0.0003064473\n",
            "0.00030033165\n",
            "0.0002943353\n",
            "0.00028846343\n",
            "0.00028270567\n",
            "0.0002770648\n",
            "0.0002715345\n",
            "0.0002661159\n",
            "0.0002608041\n",
            "0.0002555987\n",
            "0.00025049865\n",
            "0.00024549844\n",
            "0.00024059942\n",
            "0.00023579958\n",
            "0.0002310907\n",
            "0.00022647837\n",
            "0.00022195725\n",
            "0.00021752712\n",
            "0.00021318498\n",
            "0.00020893237\n",
            "0.00020476201\n",
            "0.00020067397\n",
            "0.0001966687\n",
            "0.00019274294\n",
            "0.00018889784\n",
            "0.00018512944\n",
            "0.00018143252\n",
            "0.00017781105\n",
            "0.0001742621\n",
            "0.00017078505\n",
            "0.00016737549\n",
            "0.0001640344\n",
            "0.0001607593\n",
            "0.0001575504\n",
            "0.00015440627\n",
            "0.0001513238\n",
            "0.00014830286\n",
            "0.00014534293\n",
            "0.00014244462\n",
            "0.00013960249\n",
            "0.00013681446\n",
            "0.0001340845\n",
            "0.00013140801\n",
            "0.00012878499\n",
            "0.0001262165\n",
            "0.00012369544\n",
            "0.000121226454\n",
            "0.000118807504\n",
            "0.000116437484\n",
            "0.00011411526\n",
            "0.000111836416\n",
            "0.00010960335\n",
            "0.00010741632\n",
            "0.000105272906\n",
            "0.00010317189\n",
            "0.0001011136\n",
            "9.909571e-05\n",
            "9.711756e-05\n",
            "9.517802e-05\n",
            "9.327955e-05\n",
            "9.141851e-05\n",
            "8.959365e-05\n",
            "8.780525e-05\n",
            "8.605287e-05\n",
            "8.433569e-05\n",
            "8.265277e-05\n",
            "8.100338e-05\n",
            "7.93874e-05\n",
            "7.780254e-05\n",
            "7.6249235e-05\n",
            "7.47278e-05\n",
            "7.323597e-05\n",
            "7.1775044e-05\n",
            "7.034231e-05\n",
            "6.8938025e-05\n",
            "6.7562025e-05\n",
            "6.621508e-05\n",
            "6.489205e-05\n",
            "6.3596504e-05\n",
            "6.232683e-05\n",
            "6.108282e-05\n",
            "5.9863425e-05\n",
            "5.8668193e-05\n",
            "5.7497557e-05\n",
            "5.6349883e-05\n",
            "5.5224868e-05\n",
            "5.4122975e-05\n",
            "5.3043233e-05\n",
            "5.198534e-05\n",
            "5.094773e-05\n",
            "4.993096e-05\n",
            "4.893411e-05\n",
            "4.795714e-05\n",
            "4.699969e-05\n",
            "4.606282e-05\n",
            "4.514216e-05\n",
            "4.424065e-05\n",
            "4.335846e-05\n",
            "4.2492687e-05\n",
            "4.164577e-05\n",
            "4.081469e-05\n",
            "3.9999468e-05\n",
            "3.9200564e-05\n",
            "3.8418322e-05\n",
            "3.7651975e-05\n",
            "3.6900474e-05\n",
            "3.6164354e-05\n",
            "3.5442736e-05\n",
            "3.4735018e-05\n",
            "3.4042245e-05\n",
            "3.336298e-05\n",
            "3.2696782e-05\n",
            "3.2044183e-05\n",
            "3.1404394e-05\n",
            "3.0777697e-05\n",
            "3.016332e-05\n",
            "2.9561885e-05\n",
            "2.8971413e-05\n",
            "2.8393053e-05\n",
            "2.7826076e-05\n",
            "2.7270933e-05\n",
            "2.6726877e-05\n",
            "Optimization Finished!\n"
          ],
          "name": "stdout"
        }
      ]
    },
    {
      "cell_type": "code",
      "metadata": {
        "id": "13zcLZqCPg9h",
        "outputId": "307cfda2-c63c-49ae-dc00-874bff1d6b8b",
        "colab": {
          "base_uri": "https://localhost:8080/",
          "height": 364
        }
      },
      "source": [
        "plt.scatter(X_train, y_train, c='b', alpha=0.5)\n",
        "plt.scatter(X_train, y_pred, c='r', marker='x')"
      ],
      "execution_count": null,
      "outputs": [
        {
          "output_type": "execute_result",
          "data": {
            "text/plain": [
              "<matplotlib.collections.PathCollection at 0x7f6a2ccd18d0>"
            ]
          },
          "metadata": {
            "tags": []
          },
          "execution_count": 17
        },
        {
          "output_type": "display_data",
          "data": {
            "image/png": "[encoded data removed]",
            "text/plain": [
              "<matplotlib.figure.Figure at 0x7f6a2cfb2400>"
            ]
          },
          "metadata": {
            "tags": []
          }
        }
      ]
    },
    {
      "cell_type": "markdown",
      "metadata": {
        "id": "KPiwW_lsQXV8"
      },
      "source": [
        "## Implementation in Keras"
      ]
    },
    {
      "cell_type": "code",
      "metadata": {
        "id": "q_HLLGr6QZCZ",
        "outputId": "cfe6c389-f6ba-4905-b1a1-c56d034fcffc",
        "colab": {
          "base_uri": "https://localhost:8080/",
          "height": 374
        }
      },
      "source": [
        "import keras\n",
        "\n",
        "model = keras.models.Sequential([\n",
        "  Dense(units=1, input_shape=(1,))\n",
        "])\n",
        "\n",
        "sgd = keras.optimizers.SGD(lr=0.1)\n",
        "model.compile(optimizer=sgd,\n",
        "              loss='mean_squared_error')\n",
        "\n",
        "model.fit(X_train, y_train, epochs=10)\n"
      ],
      "execution_count": null,
      "outputs": [
        {
          "output_type": "stream",
          "text": [
            "Epoch 1/10\n",
            "10/10 [==============================] - 0s 28ms/step - loss: 0.1629\n",
            "Epoch 2/10\n",
            "10/10 [==============================] - 0s 414us/step - loss: 0.1042\n",
            "Epoch 3/10\n",
            "10/10 [==============================] - 0s 327us/step - loss: 0.0667\n",
            "Epoch 4/10\n",
            "10/10 [==============================] - 0s 404us/step - loss: 0.0427\n",
            "Epoch 5/10\n",
            "10/10 [==============================] - 0s 257us/step - loss: 0.0273\n",
            "Epoch 6/10\n",
            "10/10 [==============================] - 0s 341us/step - loss: 0.0175\n",
            "Epoch 7/10\n",
            "10/10 [==============================] - 0s 245us/step - loss: 0.0112\n",
            "Epoch 8/10\n",
            "10/10 [==============================] - 0s 246us/step - loss: 0.0072\n",
            "Epoch 9/10\n",
            "10/10 [==============================] - 0s 309us/step - loss: 0.0046\n",
            "Epoch 10/10\n",
            "10/10 [==============================] - 0s 311us/step - loss: 0.0029\n"
          ],
          "name": "stdout"
        },
        {
          "output_type": "execute_result",
          "data": {
            "text/plain": [
              "<keras.callbacks.History at 0x7f92ca9a3588>"
            ]
          },
          "metadata": {
            "tags": []
          },
          "execution_count": 36
        }
      ]
    },
    {
      "cell_type": "code",
      "metadata": {
        "id": "MaE2IqqyRxwP",
        "outputId": "4f0a2b82-6bf3-4f7d-c90a-3fe96a063fb6",
        "colab": {
          "base_uri": "https://localhost:8080/",
          "height": 364
        }
      },
      "source": [
        "y_pred = model.predict(X_train)\n",
        "plt.scatter(X_train, y_train, c='b', alpha=0.5)\n",
        "plt.plot(X_train, y_pred, c='r')#, marker='x')"
      ],
      "execution_count": null,
      "outputs": [
        {
          "output_type": "execute_result",
          "data": {
            "text/plain": [
              "[<matplotlib.lines.Line2D at 0x7f92ca749d68>]"
            ]
          },
          "metadata": {
            "tags": []
          },
          "execution_count": 39
        },
        {
          "output_type": "display_data",
          "data": {
            "image/png": "[encoded data removed]",
            "text/plain": [
              "<Figure size 576x396 with 1 Axes>"
            ]
          },
          "metadata": {
            "tags": []
          }
        }
      ]
    },
    {
      "cell_type": "code",
      "metadata": {
        "id": "sdPPlKIllhkb"
      },
      "source": [
        ""
      ],
      "execution_count": null,
      "outputs": []
    }
  ]
}