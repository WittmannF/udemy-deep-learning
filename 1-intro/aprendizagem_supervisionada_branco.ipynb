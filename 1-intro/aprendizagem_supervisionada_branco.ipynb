{
  "nbformat": 4,
  "nbformat_minor": 0,
  "metadata": {
    "anaconda-cloud": {},
    "kernelspec": {
      "name": "python3",
      "display_name": "Python 3"
    },
    "colab": {
      "name": "detector-idiomas-branco.ipynb",
      "provenance": [],
      "include_colab_link": true
    }
  },
  "cells": [
    {
      "cell_type": "markdown",
      "metadata": {
        "id": "view-in-github",
        "colab_type": "text"
      },
      "source": [
        "<a href=\"https://colab.research.google.com/github/WittmannF/dev-udemy-deep-learning/blob/master/section-1/detector_idiomas_branco.ipynb\" target=\"_parent\"><img src=\"https://colab.research.google.com/assets/colab-badge.svg\" alt=\"Open In Colab\"/></a>"
      ]
    },
    {
      "cell_type": "markdown",
      "metadata": {
        "id": "E9YvwUqdSowL",
        "colab_type": "text"
      },
      "source": [
        "# Atividade: Detector de Idiomas"
      ]
    },
    {
      "cell_type": "code",
      "metadata": {
        "id": "7rgR2Qm2SowP",
        "colab_type": "code",
        "colab": {}
      },
      "source": [
        "import numpy as np \n",
        "import pandas as pd\n",
        "\n",
        "!wget https://raw.githubusercontent.com/WittmannF/dev-udemy-deep-learning/master/section-1/detector_idioma.py\n",
        "from detector_idioma import Modelo"
      ],
      "execution_count": 0,
      "outputs": []
    },
    {
      "cell_type": "code",
      "metadata": {
        "id": "D71Q-Ar7SowT",
        "colab_type": "code",
        "colab": {}
      },
      "source": [
        "# Copie e cole abaixo textos em português\n",
        "portugues = \"\"\"\n",
        "\n",
        "\"\"\"\n",
        "\n",
        "# Separando as frases\n",
        "portugues=portugues.replace('\\n', '').split('.')"
      ],
      "execution_count": 0,
      "outputs": []
    },
    {
      "cell_type": "code",
      "metadata": {
        "id": "oVf6nTz9SowW",
        "colab_type": "code",
        "colab": {}
      },
      "source": [
        "# Copie e cole abaixo textos em inglês\n",
        "ingles = \"\"\"\n",
        "\n",
        "\"\"\"\n",
        "# Separando as frases\n",
        "ingles=ingles.replace('\\n', '').split('.')"
      ],
      "execution_count": 0,
      "outputs": []
    },
    {
      "cell_type": "code",
      "metadata": {
        "id": "RDkBn9qM7ldh",
        "colab_type": "code",
        "colab": {}
      },
      "source": [
        "# Vamos imprimir o número de frases coletadas\n",
        "n_frases_pt = len(portugues)\n",
        "n_frases_en = len(ingles)\n",
        "print(f'Número de frases em Português: {n_frases_pt}')\n",
        "print(f'Número de frases em Inglês: {n_frases_en}')"
      ],
      "execution_count": 0,
      "outputs": []
    },
    {
      "cell_type": "code",
      "metadata": {
        "id": "CStjbyfMSowZ",
        "colab_type": "code",
        "colab": {}
      },
      "source": [
        "# Vamos unir em uma só lista todas as frases em português e em inglês\n",
        "entrada = portugues + ingles"
      ],
      "execution_count": 0,
      "outputs": []
    },
    {
      "cell_type": "code",
      "metadata": {
        "id": "pZ47Sp1-5BCp",
        "colab_type": "code",
        "colab": {}
      },
      "source": [
        "# Vamos atribuir como saída 1 para as frases em pt e 0 para as frases em inglês\n",
        "saida = [1]*n_frases_pt + [0]*n_frases_en"
      ],
      "execution_count": 0,
      "outputs": []
    },
    {
      "cell_type": "code",
      "metadata": {
        "id": "3_W2DRC_8pVl",
        "colab_type": "code",
        "colab": {}
      },
      "source": [
        "# Visualizando algumas frases\n",
        "pd.DataFrame({'Frase': entrada, 'Idioma': saida})"
      ],
      "execution_count": 0,
      "outputs": []
    },
    {
      "cell_type": "code",
      "metadata": {
        "id": "n7olwVnjX-DM",
        "colab_type": "code",
        "colab": {}
      },
      "source": [
        "# 1. Declarando um modelo\n",
        "modelo = Modelo()"
      ],
      "execution_count": 0,
      "outputs": []
    },
    {
      "cell_type": "code",
      "metadata": {
        "id": "9vUfSsbcYAmc",
        "colab_type": "code",
        "colab": {}
      },
      "source": [
        "# 2. Treinando o modelo\n",
        "modelo.treinar(entrada, saida)"
      ],
      "execution_count": 0,
      "outputs": []
    },
    {
      "cell_type": "code",
      "metadata": {
        "id": "TVpwz6muYAqg",
        "colab_type": "code",
        "colab": {}
      },
      "source": [
        "# 3. Prevendo\n",
        "modelo.prever('<insira um texto em pt ou en>')"
      ],
      "execution_count": 0,
      "outputs": []
    },
    {
      "cell_type": "code",
      "metadata": {
        "id": "zHv-2UDLSoxL",
        "colab_type": "code",
        "colab": {}
      },
      "source": [
        ""
      ],
      "execution_count": 0,
      "outputs": []
    }
  ]
}