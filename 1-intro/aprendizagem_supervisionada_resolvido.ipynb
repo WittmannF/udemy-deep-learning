{
  "nbformat": 4,
  "nbformat_minor": 0,
  "metadata": {
    "anaconda-cloud": {},
    "kernelspec": {
      "name": "python3",
      "display_name": "Python 3"
    },
    "colab": {
      "name": "Caprendizagem-supervisionada-resolvido.ipynb",
      "provenance": [],
      "include_colab_link": true
    }
  },
  "cells": [
    {
      "cell_type": "markdown",
      "metadata": {
        "id": "view-in-github",
        "colab_type": "text"
      },
      "source": [
        "<a href=\"https://colab.research.google.com/github/WittmannF/dev-udemy-deep-learning/blob/master/section-1/aprendizagem_supervisionada_resolvido.ipynb\" target=\"_parent\"><img src=\"https://colab.research.google.com/assets/colab-badge.svg\" alt=\"Open In Colab\"/></a>"
      ]
    },
    {
      "cell_type": "markdown",
      "metadata": {
        "id": "E9YvwUqdSowL",
        "colab_type": "text"
      },
      "source": [
        "# Atividade: Construindo um detector de idiomas"
      ]
    },
    {
      "cell_type": "code",
      "metadata": {
        "id": "7rgR2Qm2SowP",
        "colab_type": "code",
        "outputId": "e2b95b98-c79e-4c2a-9349-7a039afd5c83",
        "colab": {
          "base_uri": "https://localhost:8080/",
          "height": 222
        }
      },
      "source": [
        "import numpy as np \n",
        "import pandas as pd\n",
        "\n",
        "!wget https://raw.githubusercontent.com/WittmannF/dev-udemy-deep-learning/master/section-1/detector_idioma.py\n",
        "from detector_idioma import Modelo"
      ],
      "execution_count": 0,
      "outputs": [
        {
          "output_type": "stream",
          "text": [
            "--2020-01-07 01:10:00--  https://raw.githubusercontent.com/WittmannF/dev-udemy-deep-learning/master/section-1/detector_idioma.py\n",
            "Resolving raw.githubusercontent.com (raw.githubusercontent.com)... 151.101.0.133, 151.101.64.133, 151.101.128.133, ...\n",
            "Connecting to raw.githubusercontent.com (raw.githubusercontent.com)|151.101.0.133|:443... connected.\n",
            "HTTP request sent, awaiting response... 200 OK\n",
            "Length: 2428 (2.4K) [text/plain]\n",
            "Saving to: ‘detector_idioma.py’\n",
            "\n",
            "\rdetector_idioma.py    0%[                    ]       0  --.-KB/s               \rdetector_idioma.py  100%[===================>]   2.37K  --.-KB/s    in 0s      \n",
            "\n",
            "2020-01-07 01:10:00 (44.8 MB/s) - ‘detector_idioma.py’ saved [2428/2428]\n",
            "\n"
          ],
          "name": "stdout"
        }
      ]
    },
    {
      "cell_type": "code",
      "metadata": {
        "id": "D71Q-Ar7SowT",
        "colab_type": "code",
        "colab": {}
      },
      "source": [
        "# Copie e cole abaixo textos em português\n",
        "portugues = \"\"\"\n",
        "O gato (Felis silvestris catus), também conhecido como gato caseiro, gato urbano ou gato doméstico,[4] é um mamífero carnívoro da família dos felídeos, muito popular como animal de estimação. Ocupando o topo da cadeia alimentar, é predador natural de diversos animais, como roedores, pássaros, lagartixas e alguns insetos.\n",
        "\n",
        "A primeira associação com os humanos da qual se tem notícia ocorreu há cerca de 9.500 anos,[5][6] período superior ao estimado anteriormente, que oscilava entre 3500 e 8000 anos. A subfamília Felinae, que agrupa os gatos domésticos, surgiu há cerca de 12 milhões de anos, expandindo-se a partir da África subsariana até alcançar as terras do atual Egito.[7] Acredita-se que o gato-selvagem-africano (Felis silvestris lybica) era seu antepassado imediato[8] e evidencias genéticas assinalam que os gatos domésticos atuais partilham uma procedência direta com os gatos selvagens do Oriente Médio.\n",
        "\n",
        "Existem cerca de 250 raças de gato doméstico, cujo peso variável entre 2.5 a 12 kg classifica a espécie como animal doméstico de pequeno a médio porte. Assim como ocorre com as raças de cães que apresentam esta mesma faixa de peso, o gato doméstico pode viver entre quinze e vinte anos.\n",
        "\n",
        "Devido à sua personalidade independente, tornou-se um animal de companhia em diversos lares ao redor do mundo, agradando pessoas dos mais variados estilos de vida. Na cultura humana, figura da mitologia às superstições, passando por personagens de desenhos animados, tiras de jornais, filmes e contos de fadas. Entre suas mais conhecidas representações, estão os gatos: Tom, Frajola, Manda-Chuva, Gato Félix, Gaturro, O Gato de Botas e Garfield.\n",
        "\n",
        "Segundo pesquisas realizadas por instituições norte-americanas, os gatos consistem no segundo animal de estimação mais popular do mundo, estando atrás apenas dos peixes de aquário.[9][10] Dados censitários apontam que nos EUA existem mais gatos domésticos do que cachorros.[11]\n",
        "\n",
        "O gato doméstico foi denominado Felis catus por Carolus Linnaeus na sua obra Systema Naturae, de 1758[12]. Johann Christian Daniel von Schreber chamou o gato selvagem de Felis silvestris, em 1775. De acordo com critérios filogenéticos, os gatos caseiros são considerados uma das subespécies do gato selvagem. Não é incomum, aliás, o cruzamento entre gatos domésticos e selvagens, formando espécimes híbridos.[13]\n",
        "\n",
        "Pelas regras de prioridade do Código Internacional de Nomenclatura Zoológica, o nome da espécie deveria ser Felis catus. No entanto, na prática, a maioria dos biólogos utilizam Felis silvestris para as espécies selvagens e Felis catus somente para as formas domesticadas. Na opinião n.º 2027, publicada no Volume 60 (Parte I) do Bulletin of Zoological Nomenclature (31 de março de 2003),[14] a Comissão Internacional de Nomenclatura Zoológica confirmou a utilização de Felis silvestris para denominar o gato selvagem e Felis silvestris catus para as subespécies domesticadas. Felis catus segue sendo válido para a forma domesticada, se esta for considerada uma espécie separada.[15]\n",
        "\n",
        "Johann Christian Polycarp Erxleben denominou o gato doméstico de Felis domesticus em suas obras Anfangsgründe der Naturlehre e Systema regni animalis, de 1777. Este nome e as suas variantes Felis catus domesticus e Felis silvestris domesticus não são nomes científicos válidos segundo as regras do Código Internacional de Nomenclatura Zoológica.\n",
        "\"\"\"\n",
        "\n",
        "# Separando as frases\n",
        "portugues=portugues.replace('\\n', '').split('.')"
      ],
      "execution_count": 0,
      "outputs": []
    },
    {
      "cell_type": "code",
      "metadata": {
        "id": "oVf6nTz9SowW",
        "colab_type": "code",
        "colab": {}
      },
      "source": [
        "# Copie e cole abaixo textos em inglês\n",
        "ingles = \"\"\"\n",
        "The cat (Felis catus) is a small carnivorous mammal.[1][2] It is the only domesticated species in the family Felidae and often referred to as the domestic cat to distinguish it from wild members of the family.[4] The cat is either a house cat or a farm cat, which are pets, or a feral cat, which ranges freely and avoids human contact.[5] House cats are valued by humans for companionship and for their ability to hunt rodents. About 60 cat breeds are recognized by various cat registries.[6]\n",
        "\n",
        "The cat is similar in anatomy to the other felid species, has a strong flexible body, quick reflexes, sharp teeth and retractable claws adapted to killing small prey. Its night vision and sense of smell are well developed. Cat communication includes vocalizations like meowing, purring, trilling, hissing, growling and grunting as well as cat-specific body language. It is a solitary hunter, but a social species. It can hear sounds too faint or too high in frequency for human ears, such as those made by mice and other small mammals. It is a predator that is most active at dawn and dusk.[7] It secretes and perceives pheromones.[8]\n",
        "\n",
        "Female domestic cats can have kittens from spring to late autumn, with litter sizes ranging from two to five kittens.[9] Domestic cats are bred and shown as registered pedigreed cats, a hobby known as cat fancy. Failure to control breeding of pet cats by spaying and neutering, as well as abandonment of pets, resulted in large numbers of feral cats worldwide, contributing to the extinction of entire bird species, and evoking population control.[10]\n",
        "\n",
        "It was long thought that cat domestication was initiated in Egypt, because cats in ancient Egypt were venerated since around 3100 BC.[11][12] However, the earliest indication for the taming of an African wildcat (F. lybica) was found in Cyprus, where a cat skeleton was excavated close by a human Neolithic grave dating to around 7500 BC.[13] African wildcats were probably first domesticated in the Near East.[14]\n",
        "\n",
        "As of 2017, the domestic cat was the second-most popular pet in the United States by number of pets owned, after freshwater fish,[15] with 95 million cats owned.[16][17] In the United Kingdom, around 7.3 million cats lived in more than 4.8 million households as of 2019.[1\n",
        "\n",
        "The origin of the English word 'cat', Old English catt, is thought to be the Late Latin word cattus, which was first used at the beginning of the 6th century.[19] It was suggested that the word 'cattus' is derived from an Egyptian precursor of Coptic ϣⲁⲩ šau, \"tomcat\", or its feminine form suffixed with -t.[20] The Late Latin word is also thought to be derived from Afro-Asiatic languages.[21] The Nubian word kaddîska \"wildcat\" and Nobiin kadīs are possible sources or cognates.[22] The Nubian word may be a loan from Arabic قَطّ‎ qaṭṭ ~ قِطّ qiṭṭ. It is \"equally likely that the forms might derive from an ancient Germanic word, imported into Latin and thence to Greek and to Syriac and Arabic\".[23] The word may be derived from Germanic and Northern European languages, and ultimately be borrowed from Uralic, cf. Northern Sami gáđfi, \"female stoat\", and Hungarian hölgy, \"stoat\"; from Proto-Uralic *käďwä, \"female (of a furred animal)\".[24]\n",
        "\n",
        "The English puss, extended as pussy and pussycat, is attested from the 16th century and may have been introduced from Dutch poes or from Low German puuskatte, related to Swedish kattepus, or Norwegian pus, pusekatt. Similar forms exist in Lithuanian puižė and Irish puisín or puiscín. The etymology of this word is unknown, but it may have simply arisen from a sound used to attract a cat.[25][26]\n",
        "\"\"\"\n",
        "# Separando as frases\n",
        "ingles=ingles.replace('\\n', '').split('.')"
      ],
      "execution_count": 0,
      "outputs": []
    },
    {
      "cell_type": "code",
      "metadata": {
        "id": "RDkBn9qM7ldh",
        "colab_type": "code",
        "outputId": "db9949f7-b811-4bec-a635-1d30c62c1a27",
        "colab": {
          "base_uri": "https://localhost:8080/",
          "height": 50
        }
      },
      "source": [
        "# Vamos imprimir o número de frases coletadas\n",
        "n_frases_pt = len(portugues)\n",
        "n_frases_en = len(ingles)\n",
        "print(f'Número de frases em Português: {n_frases_pt}')\n",
        "print(f'Número de frases em Inglês: {n_frases_en}')"
      ],
      "execution_count": 0,
      "outputs": [
        {
          "output_type": "stream",
          "text": [
            "Número de frases em Português: 26\n",
            "Número de frases em Inglês: 35\n"
          ],
          "name": "stdout"
        }
      ]
    },
    {
      "cell_type": "code",
      "metadata": {
        "id": "CStjbyfMSowZ",
        "colab_type": "code",
        "colab": {}
      },
      "source": [
        "# Vamos unir em uma só lista todas as frases em português e em inglês\n",
        "entrada = portugues + ingles"
      ],
      "execution_count": 0,
      "outputs": []
    },
    {
      "cell_type": "code",
      "metadata": {
        "id": "pZ47Sp1-5BCp",
        "colab_type": "code",
        "colab": {}
      },
      "source": [
        "# Vamos atribuir como saída 1 para as frases em pt e 0 para as frases em inglês\n",
        "saida = [1]*n_frases_pt + [0]*n_frases_en"
      ],
      "execution_count": 0,
      "outputs": []
    },
    {
      "cell_type": "code",
      "metadata": {
        "id": "3_W2DRC_8pVl",
        "colab_type": "code",
        "outputId": "6b2848f2-7448-4a50-ab6a-09e7958658d8",
        "colab": {
          "base_uri": "https://localhost:8080/",
          "height": 402
        }
      },
      "source": [
        "# Visualizando algumas frases\n",
        "pd.DataFrame({'Frase': entrada, 'Idioma': saida})"
      ],
      "execution_count": 0,
      "outputs": [
        {
          "output_type": "execute_result",
          "data": {
            "text/html": [
              "<div>\n",
              "<style scoped>\n",
              "    .dataframe tbody tr th:only-of-type {\n",
              "        vertical-align: middle;\n",
              "    }\n",
              "\n",
              "    .dataframe tbody tr th {\n",
              "        vertical-align: top;\n",
              "    }\n",
              "\n",
              "    .dataframe thead th {\n",
              "        text-align: right;\n",
              "    }\n",
              "</style>\n",
              "<table border=\"1\" class=\"dataframe\">\n",
              "  <thead>\n",
              "    <tr style=\"text-align: right;\">\n",
              "      <th></th>\n",
              "      <th>Frase</th>\n",
              "      <th>Idioma</th>\n",
              "    </tr>\n",
              "  </thead>\n",
              "  <tbody>\n",
              "    <tr>\n",
              "      <th>0</th>\n",
              "      <td>O gato (Felis silvestris catus), também conhec...</td>\n",
              "      <td>1</td>\n",
              "    </tr>\n",
              "    <tr>\n",
              "      <th>1</th>\n",
              "      <td>Ocupando o topo da cadeia alimentar, é predad...</td>\n",
              "      <td>1</td>\n",
              "    </tr>\n",
              "    <tr>\n",
              "      <th>2</th>\n",
              "      <td>A primeira associação com os humanos da qual s...</td>\n",
              "      <td>1</td>\n",
              "    </tr>\n",
              "    <tr>\n",
              "      <th>3</th>\n",
              "      <td>500 anos,[5][6] período superior ao estimado a...</td>\n",
              "      <td>1</td>\n",
              "    </tr>\n",
              "    <tr>\n",
              "      <th>4</th>\n",
              "      <td>A subfamília Felinae, que agrupa os gatos dom...</td>\n",
              "      <td>1</td>\n",
              "    </tr>\n",
              "    <tr>\n",
              "      <th>...</th>\n",
              "      <td>...</td>\n",
              "      <td>...</td>\n",
              "    </tr>\n",
              "    <tr>\n",
              "      <th>56</th>\n",
              "      <td>Northern Sami gáđfi, \"female stoat\", and Hung...</td>\n",
              "      <td>0</td>\n",
              "    </tr>\n",
              "    <tr>\n",
              "      <th>57</th>\n",
              "      <td>[24]The English puss, extended as pussy and pu...</td>\n",
              "      <td>0</td>\n",
              "    </tr>\n",
              "    <tr>\n",
              "      <th>58</th>\n",
              "      <td>Similar forms exist in Lithuanian puižė and I...</td>\n",
              "      <td>0</td>\n",
              "    </tr>\n",
              "    <tr>\n",
              "      <th>59</th>\n",
              "      <td>The etymology of this word is unknown, but it...</td>\n",
              "      <td>0</td>\n",
              "    </tr>\n",
              "    <tr>\n",
              "      <th>60</th>\n",
              "      <td>[25][26]</td>\n",
              "      <td>0</td>\n",
              "    </tr>\n",
              "  </tbody>\n",
              "</table>\n",
              "<p>61 rows × 2 columns</p>\n",
              "</div>"
            ],
            "text/plain": [
              "                                                Frase  Idioma\n",
              "0   O gato (Felis silvestris catus), também conhec...       1\n",
              "1    Ocupando o topo da cadeia alimentar, é predad...       1\n",
              "2   A primeira associação com os humanos da qual s...       1\n",
              "3   500 anos,[5][6] período superior ao estimado a...       1\n",
              "4    A subfamília Felinae, que agrupa os gatos dom...       1\n",
              "..                                                ...     ...\n",
              "56   Northern Sami gáđfi, \"female stoat\", and Hung...       0\n",
              "57  [24]The English puss, extended as pussy and pu...       0\n",
              "58   Similar forms exist in Lithuanian puižė and I...       0\n",
              "59   The etymology of this word is unknown, but it...       0\n",
              "60                                           [25][26]       0\n",
              "\n",
              "[61 rows x 2 columns]"
            ]
          },
          "metadata": {
            "tags": []
          },
          "execution_count": 9
        }
      ]
    },
    {
      "cell_type": "code",
      "metadata": {
        "id": "n7olwVnjX-DM",
        "colab_type": "code",
        "colab": {}
      },
      "source": [
        "# 1. Declarando um modelo\n",
        "modelo = Modelo()"
      ],
      "execution_count": 0,
      "outputs": []
    },
    {
      "cell_type": "code",
      "metadata": {
        "id": "9vUfSsbcYAmc",
        "colab_type": "code",
        "outputId": "65d7c007-293e-4d5a-8282-e6acb567772c",
        "colab": {
          "base_uri": "https://localhost:8080/",
          "height": 50
        }
      },
      "source": [
        "# 2. Treinando o modelo\n",
        "modelo.treinar(entrada, saida)"
      ],
      "execution_count": 0,
      "outputs": [
        {
          "output_type": "stream",
          "text": [
            "Treinando...\n",
            "Treinamento Concluído!\n"
          ],
          "name": "stdout"
        }
      ]
    },
    {
      "cell_type": "code",
      "metadata": {
        "id": "TVpwz6muYAqg",
        "colab_type": "code",
        "outputId": "06b96fa9-bc00-4529-9fac-c3c72b3d4af7",
        "colab": {
          "base_uri": "https://localhost:8080/",
          "height": 50
        }
      },
      "source": [
        "# 3. Prevendo\n",
        "modelo.prever('Olá, este texto está em Português')"
      ],
      "execution_count": 0,
      "outputs": [
        {
          "output_type": "stream",
          "text": [
            "O texto digitado está em Português\n",
            "Confiança: 59.66%\n"
          ],
          "name": "stdout"
        }
      ]
    },
    {
      "cell_type": "code",
      "metadata": {
        "id": "zHv-2UDLSoxL",
        "colab_type": "code",
        "colab": {}
      },
      "source": [
        ""
      ],
      "execution_count": 0,
      "outputs": []
    }
  ]
}