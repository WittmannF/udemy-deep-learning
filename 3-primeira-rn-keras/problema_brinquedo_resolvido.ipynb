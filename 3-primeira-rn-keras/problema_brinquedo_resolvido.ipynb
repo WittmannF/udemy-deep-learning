{
  "nbformat": 4,
  "nbformat_minor": 0,
  "metadata": {
    "accelerator": "GPU",
    "anaconda-cloud": {},
    "colab": {
      "name": "toy-problem.ipynb",
      "provenance": [],
      "include_colab_link": true
    },
    "kernelspec": {
      "display_name": "Python 3",
      "language": "python",
      "name": "python3"
    },
    "language_info": {
      "codemirror_mode": {
        "name": "ipython",
        "version": 3
      },
      "file_extension": ".py",
      "mimetype": "text/x-python",
      "name": "python",
      "nbconvert_exporter": "python",
      "pygments_lexer": "ipython3",
      "version": "3.7.7"
    }
  },
  "cells": [
    {
      "cell_type": "markdown",
      "metadata": {
        "id": "view-in-github",
        "colab_type": "text"
      },
      "source": [
        "<a href=\"https://colab.research.google.com/github/WittmannF/udemy-deep-learning/blob/master/3-primeira-rn-keras/problema_brinquedo_resolvido.ipynb\" target=\"_parent\"><img src=\"https://colab.research.google.com/assets/colab-badge.svg\" alt=\"Open In Colab\"/></a>"
      ]
    },
    {
      "cell_type": "markdown",
      "metadata": {
        "id": "j7a4139FPMIc"
      },
      "source": [
        "# Construindo uma Rede Neural Brinquedo"
      ]
    },
    {
      "cell_type": "markdown",
      "metadata": {
        "id": "PWEfDAEePLJW"
      },
      "source": [
        "Vamos usar o mesmo exemplo que temos visto no vídeo anterior com o preço de casa com base em sua área.\n",
        "Normalmente, quando se trabalha com problemas de aprendizagem de máquina ou deep learning, você deverá seguir esses cinco passos:\n",
        "1. Explorando os dados\n",
        "  - Importação de dados\n",
        "  - Compreender os dados\n",
        "2. Preparar os dados\n",
        "  - Escalar os dados\n",
        "  - Transformações\n",
        "  - One-Hot Encoding\n",
        "  - Divisão treino/teste\n",
        "3. Desenvolver um modelo simples como base\n",
        "4. Verificar resultados\n",
        "5. Melhorar resultados\n",
        "\n",
        "Vamos cobrir alguns deles aqui!\n",
        "## 1. Importar os Dados"
      ]
    },
    {
      "cell_type": "markdown",
      "metadata": {
        "id": "uOIDW9boibxW"
      },
      "source": [
        "Vamos criar um conjunto de dados brinquedo com apenas 20 áreas e 20 preços"
      ]
    },
    {
      "cell_type": "code",
      "metadata": {
        "id": "CDaYfd4yD2Lj",
        "outputId": "0d662054-5f1f-44f9-d5ec-10727d1cfa7d",
        "colab": {
          "base_uri": "https://localhost:8080/",
          "height": 279
        }
      },
      "source": [
        "import numpy as np\n",
        "import matplotlib.pyplot as plt\n",
        "%matplotlib inline\n",
        "import warnings\n",
        "warnings.filterwarnings('ignore')\n",
        "\n",
        "# House areas (feature)\n",
        "X = np.array([40, 45, 50, 55, 60, 70, 80, 86, 90, 100, 110, 111, 120, 132, 140, 149, 160, 171, 180, 191]).reshape(-1, 1)\n",
        "\n",
        "# House prices (prediction variable)\n",
        "y = np.array([51000, 62000, 70100, 75245, 82200, 91200, 101000, 110200, 120000, 130000, 150000, 170000, 180000, 190000, 200000, 205000, 210000, 220000, 235000, 250000]).reshape(-1, 1)\n",
        "\n",
        "# Visualize X and Y\n",
        "plt.scatter(X, y)\n",
        "plt.xlabel(\"X - Area (m²)\")\n",
        "plt.ylabel(\"y - Price (USD)\")\n",
        "plt.show()"
      ],
      "execution_count": 1,
      "outputs": [
        {
          "output_type": "display_data",
          "data": {
            "image/png": "[encoded data removed]",
            "text/plain": [
              "<Figure size 432x288 with 1 Axes>"
            ]
          },
          "metadata": {
            "tags": [],
            "needs_background": "light"
          }
        }
      ]
    },
    {
      "cell_type": "markdown",
      "metadata": {
        "id": "IpettqxCD2L8"
      },
      "source": [
        "## 2. Preparar os dados\n",
        "### Escalando Atributos Numéricos\n",
        "Otimizadores geralmente funcionam melhor quando os dados de entrada então dentro de intervalos entre -1 a 1 ou 0 a 1. Isto ajuda a superfície de erro a aproximar mais rápido de seu mínimo global. Para melhores resultados, a classe do Sklearn [Standardization](https://scikit-learn.org/stable/modules/generated/sklearn.preprocessing.StandardScaler.html) é altamente recomendada por termos um conjunto de dados com média igual a zero e um desvio padrão igual à 1:"
      ]
    },
    {
      "cell_type": "code",
      "metadata": {
        "id": "aSO0XZn8ibxu",
        "outputId": "ff858bdb-048b-4247-85bd-5c3d21107899",
        "colab": {
          "base_uri": "https://localhost:8080/",
          "height": 330
        }
      },
      "source": [
        "from sklearn.preprocessing import StandardScaler\n",
        "\n",
        "# Check mean and standard deviation before\n",
        "print(\"The mean of X is {:.1f} The Standard Deviation of X is {:.1f}\".format(np.mean(X), np.std(X)))\n",
        "\n",
        "# Apply transformation\n",
        "print(\"Applying standardization...\")\n",
        "sc = StandardScaler()\n",
        "X = sc.fit_transform(X)\n",
        "y = sc.fit_transform(y)\n",
        "\n",
        "# Check mean and standard deviation after\n",
        "print(\"The mean of X is {:.1f} The Standard Deviation of X is {:.1f}\".format(np.mean(X), np.std(X)))\n",
        "\n",
        "\n",
        "# Visualize again\n",
        "plt.scatter(X, y)\n",
        "plt.xlabel(\"X - Normalized Area\")\n",
        "plt.ylabel(\"y - Normalized Price\")\n",
        "plt.show()"
      ],
      "execution_count": 2,
      "outputs": [
        {
          "output_type": "stream",
          "text": [
            "The mean of X is 107.0 The Standard Deviation of X is 46.0\n",
            "Applying standardization...\n",
            "The mean of X is 0.0 The Standard Deviation of X is 1.0\n"
          ],
          "name": "stdout"
        },
        {
          "output_type": "display_data",
          "data": {
            "image/png": "[encoded data removed]",
            "text/plain": [
              "<Figure size 432x288 with 1 Axes>"
            ]
          },
          "metadata": {
            "tags": [],
            "needs_background": "light"
          }
        }
      ]
    },
    {
      "cell_type": "markdown",
      "metadata": {
        "id": "_0CxDqZbD2MQ"
      },
      "source": [
        "### Divisão de Dados Treinamento/Teste\n",
        "Além de escalar os dados, é muito importante dividir os dados para subconjuntos de treinamento e testes. O conjunto de treinamento vai ser usado para definir o modelo (ou o fronteira de decisão) e o conjunto de teste vai ser usado para avaliar o seu desempenho para dados novos. Se não utilizarmos um conjunto de teste, há um risco de **overfitting**, ilustrado a seguir:\n",
        "![](https://user-images.githubusercontent.com/5733246/52140129-23600f00-2639-11e9-8c03-308823791377.png)\n",
        "A divisão treinamento/teste pode ser realizada utilizando a função train_test_split do sklearn:"
      ]
    },
    {
      "cell_type": "code",
      "metadata": {
        "id": "UmBmrkd4D2MR",
        "outputId": "d7be27c9-789e-4e58-c1d1-3f2a5edf18e8",
        "colab": {
          "base_uri": "https://localhost:8080/",
          "height": 279
        }
      },
      "source": [
        "from sklearn.model_selection import train_test_split\n",
        "X_train, X_test, y_train, y_test = train_test_split(X, y, test_size=0.30, random_state=25)\n",
        "\n",
        "# Visualize again\n",
        "plt.scatter(X_train, y_train, label=\"Training\")\n",
        "plt.scatter(X_test, y_test, label=\"Testing\")\n",
        "plt.legend(loc=0)\n",
        "plt.xlabel(\"Scaled Area\")\n",
        "plt.ylabel(\"Scaled Price\")\n",
        "plt.show()"
      ],
      "execution_count": 3,
      "outputs": [
        {
          "output_type": "display_data",
          "data": {
            "image/png": "[encoded data removed]",
            "text/plain": [
              "<Figure size 432x288 with 1 Axes>"
            ]
          },
          "metadata": {
            "tags": [],
            "needs_background": "light"
          }
        }
      ]
    },
    {
      "cell_type": "markdown",
      "metadata": {
        "id": "KPiwW_lsQXV8"
      },
      "source": [
        "## 3. Desenvolvendo um modelo base"
      ]
    },
    {
      "cell_type": "markdown",
      "metadata": {
        "id": "ujJ0SqAOD2Mh"
      },
      "source": [
        "Vamos agora usar Keras, a fim de construir o nosso primeiro modelo. Ao definir um modelo, há três componentes principais que você tem que estar ciente:\n",
        "\n",
        "1. A arquitetura do Modelo: Como são camadas empilhadas umas sobre as outras? Quais camadas estão indo para ser usado?\n",
        "- Documentação de Camadas: https://keras.io/layers/core/\n",
        "    - Sequential API: https://keras.io/getting-started/sequential-model-guide/\n",
        "\n",
        "2. Otimizadores e função de custo (erro).\n",
        "- Documentação de otimizadores: https://keras.io/optimizers/\n",
        "- Documentação de tipos de funções de custo: https://keras.io/losses/\n",
        "- Métodos de compilação: https://keras.io/models/sequential/#compile\n",
        "\n",
        "3. Treinamento do modelo\n",
        "- Método Fit: https://keras.io/models/sequential/#fit\n",
        "\n",
        "Com base na documentações anteriores, vamos definir o modelo de base como um único neurónio, com apenas um peso e um viés com a seguinte aparência:\n",
        "![](https://user-images.githubusercontent.com/5733246/52482541-ad0f5f80-2b98-11e9-927c-a37ead68bf90.png)\n",
        "\n",
        "[Esta referência](https://stackoverflow.com/questions/44747343/keras-input-explanation-input-shape-units-batch-size-dim-etc) pode ser útil para a definição de um modelo.\n"
      ]
    },
    {
      "cell_type": "code",
      "metadata": {
        "id": "lg8ttBQz0wYm"
      },
      "source": [
        "# 0. Import keras dependencies \n",
        "# TODO: Import the sequential model - https://keras.io/getting-started/sequential-model-guide/\n",
        "\n",
        "# TODO: Import the dense layer - https://keras.io/layers/core/\n",
        "\n",
        "# TODO: Import the SGD optimizer - https://keras.io/optimizers/\n",
        "\n",
        "# 1. Define your base model here\n",
        "# TODO: Assign Sequential to model and create a list with just one Dense layer with one unit and one input\n",
        "model = None\n",
        "\n",
        "# 2. Set your optimizer and loss function here\n",
        "# TODO: Initialize the Stochastic Gradient Descent optimizer\n",
        "\n",
        "# TODO: Use the model.compile method with the inputs 'optimizer' and 'loss'\n",
        "model.compile(...)\n",
        "\n",
        "# 3. Train your model\n",
        "# TODO: Use the model.fit method with the the training data as input\n",
        "model.fit(...)"
      ],
      "execution_count": null,
      "outputs": []
    },
    {
      "cell_type": "markdown",
      "metadata": {
        "id": "CsUGcTCGD2Mn"
      },
      "source": [
        "Solução:"
      ]
    },
    {
      "cell_type": "code",
      "metadata": {
        "id": "IgK0xrpID2Mo",
        "outputId": "f09022a0-5a68-4e69-d749-b046363414e2",
        "colab": {
          "base_uri": "https://localhost:8080/"
        }
      },
      "source": [
        "# 0. Import keras dependencies here\n",
        "from keras.models import Sequential\n",
        "from keras.layers import Dense\n",
        "from keras.optimizers import SGD\n",
        "\n",
        "# 1. Define your base model here\n",
        "model = Sequential([\n",
        "        Dense(units=1, input_shape=(1,))\n",
        "    ])\n",
        "\n",
        "# 2. Set your optimizer and loss function here\n",
        "opt = SGD()\n",
        "model.compile(optimizer=opt,\n",
        "             loss='mean_squared_error')\n",
        "\n",
        "\n",
        "# 3. Train your model\n",
        "model.fit(X_train, y_train)"
      ],
      "execution_count": 5,
      "outputs": [
        {
          "output_type": "stream",
          "text": [
            "1/1 [==============================] - 0s 2ms/step - loss: 1.0942\n"
          ],
          "name": "stdout"
        },
        {
          "output_type": "execute_result",
          "data": {
            "text/plain": [
              "<tensorflow.python.keras.callbacks.History at 0x7f3f101e6710>"
            ]
          },
          "metadata": {
            "tags": []
          },
          "execution_count": 5
        }
      ]
    },
    {
      "cell_type": "markdown",
      "metadata": {
        "id": "IBamRQyDD2Mu"
      },
      "source": [
        "## 4. Verificando as previsões\n",
        "Vamos agora verificar visualmente como o modelo base está se saindo ao prever valores:"
      ]
    },
    {
      "cell_type": "code",
      "metadata": {
        "id": "Yv2FyIkjD2Mv",
        "outputId": "f541d2a0-a184-4aa1-e704-716d6d71ed6f",
        "colab": {
          "base_uri": "https://localhost:8080/",
          "height": 265
        }
      },
      "source": [
        "def check_predictions(model, X, y):\n",
        "    y_pred = model.predict(X)\n",
        "    plt.scatter(X, y, c='b', alpha=0.5, label=\"Data\")\n",
        "    plt.plot(X, y_pred, c='r', label=\"Model\")\n",
        "    plt.legend(loc=0)\n",
        "    plt.show()\n",
        "    \n",
        "check_predictions(model, X_train, y_train)"
      ],
      "execution_count": 6,
      "outputs": [
        {
          "output_type": "display_data",
          "data": {
            "image/png": "[encoded data removed]",
            "text/plain": [
              "<Figure size 432x288 with 1 Axes>"
            ]
          },
          "metadata": {
            "tags": [],
            "needs_background": "light"
          }
        }
      ]
    },
    {
      "cell_type": "markdown",
      "metadata": {
        "id": "ni6ssLlzD2M5"
      },
      "source": [
        "## 5. Melhorando os Resultados\n",
        "Podemos ver que o modelo não está se saindo bem nem mesmo no conjunto de treino (isso chama-se underfitting). Vamos agora melhorar esses resultados! Aqui estão algumas coisas básicas que você pode tentar:\n",
        "1. Aumentar o número de épocas\n",
        "- Épocas é o número de vezes que o algoritmo vê todo o conjunto de dados. Não confundir com `batch_size` no qual é o número de pontos que a rede neural lê para atualizar os pesos, seu valor padrão é 32. Como há menos de 32 pontos aqui, o número de épocas acaba sendo também o número de iterações em cima do peso da rede neural.\n",
        "\n",
        "2. Alterar o otimizador\n",
        "- Descida do gradiente estocástico é um otimizador bastante simples. Há mais otimizadores mais robustos como Adam\n",
        "\n",
        "4. Alterar a taxa de aprendizagem (learning rate)\n",
        "\n",
        "### 5.1 Aumentando o número de épocas"
      ]
    },
    {
      "cell_type": "code",
      "metadata": {
        "id": "9o2dluRgD2M9",
        "outputId": "2b9ee58e-338d-41a2-ab5a-d53d818fce5f",
        "colab": {
          "base_uri": "https://localhost:8080/"
        }
      },
      "source": [
        "# 0. Import keras dependencies here\n",
        "from keras.models import Sequential\n",
        "from keras.layers import Dense\n",
        "from keras.optimizers import SGD\n",
        "\n",
        "# 1. Define your base model here\n",
        "model = Sequential([\n",
        "        Dense(units=1, input_shape=(1,))\n",
        "    ])\n",
        "\n",
        "# 2. Set your optimizer and loss function here\n",
        "opt = SGD()\n",
        "model.compile(optimizer=opt,\n",
        "             loss='mean_squared_error')\n",
        "\n",
        "\n",
        "# 3. Train your model\n",
        "model.fit(X_train, y_train, epochs=20)"
      ],
      "execution_count": 7,
      "outputs": [
        {
          "output_type": "stream",
          "text": [
            "Epoch 1/20\n",
            "1/1 [==============================] - 0s 1ms/step - loss: 4.5239\n",
            "Epoch 2/20\n",
            "1/1 [==============================] - 0s 998us/step - loss: 4.3287\n",
            "Epoch 3/20\n",
            "1/1 [==============================] - 0s 882us/step - loss: 4.1419\n",
            "Epoch 4/20\n",
            "1/1 [==============================] - 0s 2ms/step - loss: 3.9633\n",
            "Epoch 5/20\n",
            "1/1 [==============================] - 0s 2ms/step - loss: 3.7923\n",
            "Epoch 6/20\n",
            "1/1 [==============================] - 0s 893us/step - loss: 3.6288\n",
            "Epoch 7/20\n",
            "1/1 [==============================] - 0s 2ms/step - loss: 3.4724\n",
            "Epoch 8/20\n",
            "1/1 [==============================] - 0s 2ms/step - loss: 3.3227\n",
            "Epoch 9/20\n",
            "1/1 [==============================] - 0s 2ms/step - loss: 3.1795\n",
            "Epoch 10/20\n",
            "1/1 [==============================] - 0s 3ms/step - loss: 3.0425\n",
            "Epoch 11/20\n",
            "1/1 [==============================] - 0s 3ms/step - loss: 2.9115\n",
            "Epoch 12/20\n",
            "1/1 [==============================] - 0s 3ms/step - loss: 2.7861\n",
            "Epoch 13/20\n",
            "1/1 [==============================] - 0s 3ms/step - loss: 2.6661\n",
            "Epoch 14/20\n",
            "1/1 [==============================] - 0s 3ms/step - loss: 2.5514\n",
            "Epoch 15/20\n",
            "1/1 [==============================] - 0s 1ms/step - loss: 2.4416\n",
            "Epoch 16/20\n",
            "1/1 [==============================] - 0s 2ms/step - loss: 2.3366\n",
            "Epoch 17/20\n",
            "1/1 [==============================] - 0s 2ms/step - loss: 2.2361\n",
            "Epoch 18/20\n",
            "1/1 [==============================] - 0s 2ms/step - loss: 2.1399\n",
            "Epoch 19/20\n",
            "1/1 [==============================] - 0s 2ms/step - loss: 2.0480\n",
            "Epoch 20/20\n",
            "1/1 [==============================] - 0s 2ms/step - loss: 1.9600\n"
          ],
          "name": "stdout"
        },
        {
          "output_type": "execute_result",
          "data": {
            "text/plain": [
              "<tensorflow.python.keras.callbacks.History at 0x7f3f10045518>"
            ]
          },
          "metadata": {
            "tags": []
          },
          "execution_count": 7
        }
      ]
    },
    {
      "cell_type": "code",
      "metadata": {
        "id": "kSi1UI9xD2NI",
        "outputId": "9959e56b-1b51-4777-b68e-8bd77b87ea28",
        "colab": {
          "base_uri": "https://localhost:8080/",
          "height": 265
        }
      },
      "source": [
        "check_predictions(model, X_train, y_train)"
      ],
      "execution_count": 8,
      "outputs": [
        {
          "output_type": "display_data",
          "data": {
            "image/png": "[encoded data removed]",
            "text/plain": [
              "<Figure size 432x288 with 1 Axes>"
            ]
          },
          "metadata": {
            "tags": [],
            "needs_background": "light"
          }
        }
      ]
    },
    {
      "cell_type": "markdown",
      "metadata": {
        "id": "RmP1J08_D2Nz"
      },
      "source": [
        "### 5.2 Testando outros otimizadores\n",
        "Esta referência tem uma ótima visualização de diferentes otimizadores do TensorFlow: https://github.com/Jaewan-Yun/optimizer-visualization\n",
        "\n",
        "![](https://github.com/Jaewan-Yun/optimizer-visualization/raw/master/figures/movie11.gif)\n",
        "\n",
        "Vamos agora tentar outros otimizadores que estão disponíveis a partir da documentação: https://keras.io/optimizers/"
      ]
    },
    {
      "cell_type": "code",
      "metadata": {
        "id": "1Jbl-m28D2N0",
        "outputId": "4d3dd11b-ca15-4905-9279-a8adea6d8055",
        "colab": {
          "base_uri": "https://localhost:8080/"
        }
      },
      "source": [
        "# 0. Import keras dependencies here\n",
        "from keras.models import Sequential\n",
        "from keras.layers import Dense\n",
        "from keras.optimizers import Adam\n",
        "\n",
        "# 1. Define your base model here\n",
        "model = Sequential([\n",
        "        Dense(units=1, input_shape=(1,))\n",
        "    ])\n",
        "\n",
        "# 2. Set your optimizer loss function here\n",
        "opt = Adam()\n",
        "model.compile(optimizer=opt,\n",
        "             loss='mean_squared_error')\n",
        "\n",
        "\n",
        "# 3. Train your model\n",
        "model.fit(X_train, y_train, epochs=20)"
      ],
      "execution_count": 9,
      "outputs": [
        {
          "output_type": "stream",
          "text": [
            "Epoch 1/20\n",
            "1/1 [==============================] - 0s 1ms/step - loss: 0.0254\n",
            "Epoch 2/20\n",
            "1/1 [==============================] - 0s 1ms/step - loss: 0.0252\n",
            "Epoch 3/20\n",
            "1/1 [==============================] - 0s 1ms/step - loss: 0.0249\n",
            "Epoch 4/20\n",
            "1/1 [==============================] - 0s 4ms/step - loss: 0.0247\n",
            "Epoch 5/20\n",
            "1/1 [==============================] - 0s 2ms/step - loss: 0.0245\n",
            "Epoch 6/20\n",
            "1/1 [==============================] - 0s 2ms/step - loss: 0.0242\n",
            "Epoch 7/20\n",
            "1/1 [==============================] - 0s 2ms/step - loss: 0.0240\n",
            "Epoch 8/20\n",
            "1/1 [==============================] - 0s 4ms/step - loss: 0.0238\n",
            "Epoch 9/20\n",
            "1/1 [==============================] - 0s 1ms/step - loss: 0.0235\n",
            "Epoch 10/20\n",
            "1/1 [==============================] - 0s 980us/step - loss: 0.0233\n",
            "Epoch 11/20\n",
            "1/1 [==============================] - 0s 1ms/step - loss: 0.0231\n",
            "Epoch 12/20\n",
            "1/1 [==============================] - 0s 1ms/step - loss: 0.0229\n",
            "Epoch 13/20\n",
            "1/1 [==============================] - 0s 1ms/step - loss: 0.0227\n",
            "Epoch 14/20\n",
            "1/1 [==============================] - 0s 1ms/step - loss: 0.0225\n",
            "Epoch 15/20\n",
            "1/1 [==============================] - 0s 2ms/step - loss: 0.0223\n",
            "Epoch 16/20\n",
            "1/1 [==============================] - 0s 1ms/step - loss: 0.0221\n",
            "Epoch 17/20\n",
            "1/1 [==============================] - 0s 2ms/step - loss: 0.0219\n",
            "Epoch 18/20\n",
            "1/1 [==============================] - 0s 2ms/step - loss: 0.0217\n",
            "Epoch 19/20\n",
            "1/1 [==============================] - 0s 1ms/step - loss: 0.0216\n",
            "Epoch 20/20\n",
            "1/1 [==============================] - 0s 1ms/step - loss: 0.0214\n"
          ],
          "name": "stdout"
        },
        {
          "output_type": "execute_result",
          "data": {
            "text/plain": [
              "<tensorflow.python.keras.callbacks.History at 0x7f3eb06faef0>"
            ]
          },
          "metadata": {
            "tags": []
          },
          "execution_count": 9
        }
      ]
    },
    {
      "cell_type": "code",
      "metadata": {
        "id": "N2j9oZafD2N4",
        "outputId": "d7319ec0-699a-43db-c76e-32e12f76bfe1",
        "colab": {
          "base_uri": "https://localhost:8080/",
          "height": 265
        }
      },
      "source": [
        "check_predictions(model, X_train, y_train)"
      ],
      "execution_count": 10,
      "outputs": [
        {
          "output_type": "display_data",
          "data": {
            "image/png": "[encoded data removed]",
            "text/plain": [
              "<Figure size 432x288 with 1 Axes>"
            ]
          },
          "metadata": {
            "tags": [],
            "needs_background": "light"
          }
        }
      ]
    },
    {
      "cell_type": "markdown",
      "metadata": {
        "id": "iUFb9u6yD2OA"
      },
      "source": [
        "### 5.3 Ajustando a Taxa de Aprendizagem\n",
        "Finalmente vamos aumentar a taxa de aprendizagem. Como um lembrete, valores pequenos requerem mais iterações, enquanto valores grandes podem divergir o modelo."
      ]
    },
    {
      "cell_type": "code",
      "metadata": {
        "id": "E1NTbeGYD2OC",
        "outputId": "0655c73a-a0f0-4ffe-be82-3931e471648f",
        "colab": {
          "base_uri": "https://localhost:8080/"
        }
      },
      "source": [
        "# 0. Import keras dependencies here\n",
        "from keras.models import Sequential\n",
        "from keras.layers import Dense\n",
        "from keras.optimizers import Adam\n",
        "\n",
        "# 1. Define your base model here\n",
        "model = Sequential([\n",
        "        Dense(units=1, input_shape=(1,))\n",
        "    ])\n",
        "\n",
        "# 2. Set your optimizer and loss function here\n",
        "opt = Adam(lr=0.1) # Default of adam is 0.001. Check large and small values, use a value slighly lower than a diverging lr\n",
        "model.compile(optimizer=opt,\n",
        "             loss='mean_squared_error')\n",
        "\n",
        "\n",
        "# 3. Train your model\n",
        "model.fit(X_train, y_train, epochs=20)"
      ],
      "execution_count": 11,
      "outputs": [
        {
          "output_type": "stream",
          "text": [
            "Epoch 1/20\n",
            "1/1 [==============================] - 0s 1ms/step - loss: 1.5605\n",
            "Epoch 2/20\n",
            "1/1 [==============================] - 0s 975us/step - loss: 1.3103\n",
            "Epoch 3/20\n",
            "1/1 [==============================] - 0s 3ms/step - loss: 1.0854\n",
            "Epoch 4/20\n",
            "1/1 [==============================] - 0s 2ms/step - loss: 0.8797\n",
            "Epoch 5/20\n",
            "1/1 [==============================] - 0s 2ms/step - loss: 0.6989\n",
            "Epoch 6/20\n",
            "1/1 [==============================] - 0s 2ms/step - loss: 0.5428\n",
            "Epoch 7/20\n",
            "1/1 [==============================] - 0s 2ms/step - loss: 0.4081\n",
            "Epoch 8/20\n",
            "1/1 [==============================] - 0s 2ms/step - loss: 0.2945\n",
            "Epoch 9/20\n",
            "1/1 [==============================] - 0s 2ms/step - loss: 0.2028\n",
            "Epoch 10/20\n",
            "1/1 [==============================] - 0s 4ms/step - loss: 0.1323\n",
            "Epoch 11/20\n",
            "1/1 [==============================] - 0s 2ms/step - loss: 0.0804\n",
            "Epoch 12/20\n",
            "1/1 [==============================] - 0s 2ms/step - loss: 0.0445\n",
            "Epoch 13/20\n",
            "1/1 [==============================] - 0s 1ms/step - loss: 0.0231\n",
            "Epoch 14/20\n",
            "1/1 [==============================] - 0s 9ms/step - loss: 0.0145\n",
            "Epoch 15/20\n",
            "1/1 [==============================] - 0s 937us/step - loss: 0.0161\n",
            "Epoch 16/20\n",
            "1/1 [==============================] - 0s 2ms/step - loss: 0.0245\n",
            "Epoch 17/20\n",
            "1/1 [==============================] - 0s 2ms/step - loss: 0.0370\n",
            "Epoch 18/20\n",
            "1/1 [==============================] - 0s 2ms/step - loss: 0.0516\n",
            "Epoch 19/20\n",
            "1/1 [==============================] - 0s 1ms/step - loss: 0.0665\n",
            "Epoch 20/20\n",
            "1/1 [==============================] - 0s 1ms/step - loss: 0.0801\n"
          ],
          "name": "stdout"
        },
        {
          "output_type": "execute_result",
          "data": {
            "text/plain": [
              "<tensorflow.python.keras.callbacks.History at 0x7f3eb0623668>"
            ]
          },
          "metadata": {
            "tags": []
          },
          "execution_count": 11
        }
      ]
    },
    {
      "cell_type": "code",
      "metadata": {
        "id": "78M6Bf10D2OM",
        "outputId": "13423c72-111b-4a00-d666-b2fb1c1875f0",
        "colab": {
          "base_uri": "https://localhost:8080/",
          "height": 265
        }
      },
      "source": [
        "check_predictions(model, X_train, y_train)"
      ],
      "execution_count": 12,
      "outputs": [
        {
          "output_type": "display_data",
          "data": {
            "image/png": "[encoded data removed]",
            "text/plain": [
              "<Figure size 432x288 with 1 Axes>"
            ]
          },
          "metadata": {
            "tags": [],
            "needs_background": "light"
          }
        }
      ]
    },
    {
      "cell_type": "markdown",
      "metadata": {
        "collapsed": true,
        "id": "untxwrvTD2OR"
      },
      "source": [
        "## Considerações Finais\n",
        "Finalmente, também pode tentar usar mais camadas no modelo. No entanto, primeiramente é importante estudar as diferentes funções de ativação que podem ser usadas."
      ]
    },
    {
      "cell_type": "code",
      "metadata": {
        "id": "MsT_754AD2OS"
      },
      "source": [
        ""
      ],
      "execution_count": 12,
      "outputs": []
    }
  ]
}